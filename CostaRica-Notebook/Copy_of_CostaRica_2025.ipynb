{
  "cells": [
    {
      "cell_type": "code",
      "execution_count": null,
      "metadata": {
        "id": "Php4asD8PVcw"
      },
      "outputs": [],
      "source": []
    },
    {
      "cell_type": "code",
      "execution_count": 1,
      "metadata": {
        "colab": {
          "base_uri": "https://localhost:8080/"
        },
        "id": "LNvQqXVPrG1b",
        "outputId": "7a98c054-05c1-49de-edd2-1fa0bd6e13b8"
      },
      "outputs": [
        {
          "name": "stdout",
          "output_type": "stream",
          "text": [
            "Mounted at /content/drive\n"
          ]
        }
      ],
      "source": [
        "from google.colab import drive\n",
        "drive.mount('/content/drive')\n"
      ]
    },
    {
      "cell_type": "code",
      "execution_count": 2,
      "metadata": {
        "id": "E8nA53BVrizi"
      },
      "outputs": [],
      "source": [
        "import pandas as pd\n",
        "import numpy as np\n",
        "import matplotlib.pyplot as plt\n",
        "import seaborn as sns\n",
        "import warnings\n",
        "warnings.filterwarnings('ignore')\n",
        "\n"
      ]
    },
    {
      "cell_type": "code",
      "execution_count": 3,
      "metadata": {
        "colab": {
          "base_uri": "https://localhost:8080/"
        },
        "id": "b5ugY3gLsLOk",
        "outputId": "c25e6775-1df1-491c-cb90-a1e9ed966512"
      },
      "outputs": [
        {
          "name": "stdout",
          "output_type": "stream",
          "text": [
            "✅ Parquet converted to CSV successfully!\n"
          ]
        }
      ],
      "source": [
        "df = pd.read_parquet(\"/content/drive/MyDrive/work_stuff_USDA/en_clean_gee_data.parquet\")\n",
        "\n",
        "# Save to CSV\n",
        "df.to_csv(\"/content/drive/MyDrive/work_stuff_USDA/en_clean_gee_data.csv\", index=False)\n",
        "\n",
        "print(\"✅ Parquet converted to CSV successfully!\")"
      ]
    },
    {
      "cell_type": "code",
      "execution_count": 4,
      "metadata": {
        "colab": {
          "base_uri": "https://localhost:8080/",
          "height": 349
        },
        "id": "GQ7QCUcQsUfo",
        "outputId": "4cd1a451-3f9d-472d-eec3-50b84ea60f26"
      },
      "outputs": [
        {
          "data": {
            "application/vnd.google.colaboratory.intrinsic+json": {
              "type": "dataframe"
            },
            "text/html": [
              "\n",
              "  <div id=\"df-93dfb0aa-b379-4a5d-a284-a590cf178609\" class=\"colab-df-container\">\n",
              "    <div>\n",
              "<style scoped>\n",
              "    .dataframe tbody tr th:only-of-type {\n",
              "        vertical-align: middle;\n",
              "    }\n",
              "\n",
              "    .dataframe tbody tr th {\n",
              "        vertical-align: top;\n",
              "    }\n",
              "\n",
              "    .dataframe thead th {\n",
              "        text-align: right;\n",
              "    }\n",
              "</style>\n",
              "<table border=\"1\" class=\"dataframe\">\n",
              "  <thead>\n",
              "    <tr style=\"text-align: right;\">\n",
              "      <th></th>\n",
              "      <th>plotid</th>\n",
              "      <th>sampleid</th>\n",
              "      <th>BLUE</th>\n",
              "      <th>GREEN</th>\n",
              "      <th>NIR</th>\n",
              "      <th>RED</th>\n",
              "      <th>SWIR1</th>\n",
              "      <th>SWIR2</th>\n",
              "      <th>altura2</th>\n",
              "      <th>aspect</th>\n",
              "      <th>...</th>\n",
              "      <th>lai</th>\n",
              "      <th>mTPI</th>\n",
              "      <th>ndvi</th>\n",
              "      <th>ocs_1mMed</th>\n",
              "      <th>sand_1mMed</th>\n",
              "      <th>savi</th>\n",
              "      <th>silt_1mMed</th>\n",
              "      <th>slope</th>\n",
              "      <th>topDiv</th>\n",
              "      <th>wetness</th>\n",
              "    </tr>\n",
              "  </thead>\n",
              "  <tbody>\n",
              "    <tr>\n",
              "      <th>count</th>\n",
              "      <td>91917.000000</td>\n",
              "      <td>9.191700e+04</td>\n",
              "      <td>91917.000000</td>\n",
              "      <td>91917.000000</td>\n",
              "      <td>91917.000000</td>\n",
              "      <td>91917.000000</td>\n",
              "      <td>91917.000000</td>\n",
              "      <td>91917.000000</td>\n",
              "      <td>91917.000000</td>\n",
              "      <td>91917.000000</td>\n",
              "      <td>...</td>\n",
              "      <td>91917.000000</td>\n",
              "      <td>91917.000000</td>\n",
              "      <td>91917.000000</td>\n",
              "      <td>91917.000000</td>\n",
              "      <td>91917.000000</td>\n",
              "      <td>91917.000000</td>\n",
              "      <td>91917.000000</td>\n",
              "      <td>91917.000000</td>\n",
              "      <td>91917.000000</td>\n",
              "      <td>91917.000000</td>\n",
              "    </tr>\n",
              "    <tr>\n",
              "      <th>mean</th>\n",
              "      <td>80903.389014</td>\n",
              "      <td>3.236146e+05</td>\n",
              "      <td>0.028759</td>\n",
              "      <td>0.054678</td>\n",
              "      <td>0.326286</td>\n",
              "      <td>0.040685</td>\n",
              "      <td>0.167335</td>\n",
              "      <td>0.077881</td>\n",
              "      <td>22.648094</td>\n",
              "      <td>171.194111</td>\n",
              "      <td>...</td>\n",
              "      <td>0.424549</td>\n",
              "      <td>8129.045423</td>\n",
              "      <td>0.788692</td>\n",
              "      <td>66.444444</td>\n",
              "      <td>308.995599</td>\n",
              "      <td>0.488116</td>\n",
              "      <td>301.564670</td>\n",
              "      <td>11.856382</td>\n",
              "      <td>1324.070790</td>\n",
              "      <td>-0.014942</td>\n",
              "    </tr>\n",
              "    <tr>\n",
              "      <th>std</th>\n",
              "      <td>249965.056791</td>\n",
              "      <td>9.998602e+05</td>\n",
              "      <td>0.056796</td>\n",
              "      <td>0.054755</td>\n",
              "      <td>0.094806</td>\n",
              "      <td>0.056447</td>\n",
              "      <td>0.060646</td>\n",
              "      <td>0.040669</td>\n",
              "      <td>9.035709</td>\n",
              "      <td>105.553654</td>\n",
              "      <td>...</td>\n",
              "      <td>0.198203</td>\n",
              "      <td>37.864249</td>\n",
              "      <td>0.149405</td>\n",
              "      <td>19.879848</td>\n",
              "      <td>64.057720</td>\n",
              "      <td>0.121252</td>\n",
              "      <td>57.215726</td>\n",
              "      <td>10.255775</td>\n",
              "      <td>0.304724</td>\n",
              "      <td>0.048994</td>\n",
              "    </tr>\n",
              "    <tr>\n",
              "      <th>min</th>\n",
              "      <td>2.000000</td>\n",
              "      <td>5.000000e+00</td>\n",
              "      <td>-0.188643</td>\n",
              "      <td>-0.069183</td>\n",
              "      <td>-0.008353</td>\n",
              "      <td>-0.080238</td>\n",
              "      <td>-0.000982</td>\n",
              "      <td>0.000777</td>\n",
              "      <td>0.000000</td>\n",
              "      <td>0.000000</td>\n",
              "      <td>...</td>\n",
              "      <td>0.000000</td>\n",
              "      <td>7891.000000</td>\n",
              "      <td>-0.974632</td>\n",
              "      <td>0.000000</td>\n",
              "      <td>0.000000</td>\n",
              "      <td>-0.142855</td>\n",
              "      <td>0.000000</td>\n",
              "      <td>0.000000</td>\n",
              "      <td>1323.644835</td>\n",
              "      <td>-0.277014</td>\n",
              "    </tr>\n",
              "    <tr>\n",
              "      <th>25%</th>\n",
              "      <td>2813.000000</td>\n",
              "      <td>1.125500e+04</td>\n",
              "      <td>0.016453</td>\n",
              "      <td>0.037187</td>\n",
              "      <td>0.267500</td>\n",
              "      <td>0.020193</td>\n",
              "      <td>0.128928</td>\n",
              "      <td>0.051488</td>\n",
              "      <td>17.000000</td>\n",
              "      <td>81.388336</td>\n",
              "      <td>...</td>\n",
              "      <td>0.245000</td>\n",
              "      <td>8116.000000</td>\n",
              "      <td>0.749062</td>\n",
              "      <td>55.000000</td>\n",
              "      <td>282.750000</td>\n",
              "      <td>0.425358</td>\n",
              "      <td>281.650000</td>\n",
              "      <td>3.380342</td>\n",
              "      <td>1323.771841</td>\n",
              "      <td>-0.036581</td>\n",
              "    </tr>\n",
              "    <tr>\n",
              "      <th>50%</th>\n",
              "      <td>5581.000000</td>\n",
              "      <td>2.232500e+04</td>\n",
              "      <td>0.023025</td>\n",
              "      <td>0.047225</td>\n",
              "      <td>0.325278</td>\n",
              "      <td>0.028910</td>\n",
              "      <td>0.162175</td>\n",
              "      <td>0.068153</td>\n",
              "      <td>22.648094</td>\n",
              "      <td>173.548309</td>\n",
              "      <td>...</td>\n",
              "      <td>0.505000</td>\n",
              "      <td>8128.000000</td>\n",
              "      <td>0.838551</td>\n",
              "      <td>63.000000</td>\n",
              "      <td>309.600000</td>\n",
              "      <td>0.506485</td>\n",
              "      <td>302.700000</td>\n",
              "      <td>8.627475</td>\n",
              "      <td>1324.045699</td>\n",
              "      <td>-0.005721</td>\n",
              "    </tr>\n",
              "    <tr>\n",
              "      <th>75%</th>\n",
              "      <td>8365.000000</td>\n",
              "      <td>3.346200e+04</td>\n",
              "      <td>0.030697</td>\n",
              "      <td>0.061717</td>\n",
              "      <td>0.384705</td>\n",
              "      <td>0.047033</td>\n",
              "      <td>0.200950</td>\n",
              "      <td>0.095515</td>\n",
              "      <td>29.000000</td>\n",
              "      <td>263.995667</td>\n",
              "      <td>...</td>\n",
              "      <td>0.615000</td>\n",
              "      <td>8139.000000</td>\n",
              "      <td>0.882234</td>\n",
              "      <td>73.000000</td>\n",
              "      <td>341.550000</td>\n",
              "      <td>0.571499</td>\n",
              "      <td>327.650000</td>\n",
              "      <td>17.910181</td>\n",
              "      <td>1324.329039</td>\n",
              "      <td>0.010595</td>\n",
              "    </tr>\n",
              "    <tr>\n",
              "      <th>max</th>\n",
              "      <td>910231.000000</td>\n",
              "      <td>3.640929e+06</td>\n",
              "      <td>1.063955</td>\n",
              "      <td>1.024878</td>\n",
              "      <td>0.980080</td>\n",
              "      <td>1.010193</td>\n",
              "      <td>0.562135</td>\n",
              "      <td>0.481972</td>\n",
              "      <td>51.000000</td>\n",
              "      <td>359.030029</td>\n",
              "      <td>...</td>\n",
              "      <td>0.670000</td>\n",
              "      <td>8390.000000</td>\n",
              "      <td>0.999941</td>\n",
              "      <td>150.000000</td>\n",
              "      <td>778.050000</td>\n",
              "      <td>0.902410</td>\n",
              "      <td>599.550000</td>\n",
              "      <td>72.676102</td>\n",
              "      <td>1324.630000</td>\n",
              "      <td>0.733936</td>\n",
              "    </tr>\n",
              "  </tbody>\n",
              "</table>\n",
              "<p>8 rows × 30 columns</p>\n",
              "</div>\n",
              "    <div class=\"colab-df-buttons\">\n",
              "\n",
              "  <div class=\"colab-df-container\">\n",
              "    <button class=\"colab-df-convert\" onclick=\"convertToInteractive('df-93dfb0aa-b379-4a5d-a284-a590cf178609')\"\n",
              "            title=\"Convert this dataframe to an interactive table.\"\n",
              "            style=\"display:none;\">\n",
              "\n",
              "  <svg xmlns=\"http://www.w3.org/2000/svg\" height=\"24px\" viewBox=\"0 -960 960 960\">\n",
              "    <path d=\"M120-120v-720h720v720H120Zm60-500h600v-160H180v160Zm220 220h160v-160H400v160Zm0 220h160v-160H400v160ZM180-400h160v-160H180v160Zm440 0h160v-160H620v160ZM180-180h160v-160H180v160Zm440 0h160v-160H620v160Z\"/>\n",
              "  </svg>\n",
              "    </button>\n",
              "\n",
              "  <style>\n",
              "    .colab-df-container {\n",
              "      display:flex;\n",
              "      gap: 12px;\n",
              "    }\n",
              "\n",
              "    .colab-df-convert {\n",
              "      background-color: #E8F0FE;\n",
              "      border: none;\n",
              "      border-radius: 50%;\n",
              "      cursor: pointer;\n",
              "      display: none;\n",
              "      fill: #1967D2;\n",
              "      height: 32px;\n",
              "      padding: 0 0 0 0;\n",
              "      width: 32px;\n",
              "    }\n",
              "\n",
              "    .colab-df-convert:hover {\n",
              "      background-color: #E2EBFA;\n",
              "      box-shadow: 0px 1px 2px rgba(60, 64, 67, 0.3), 0px 1px 3px 1px rgba(60, 64, 67, 0.15);\n",
              "      fill: #174EA6;\n",
              "    }\n",
              "\n",
              "    .colab-df-buttons div {\n",
              "      margin-bottom: 4px;\n",
              "    }\n",
              "\n",
              "    [theme=dark] .colab-df-convert {\n",
              "      background-color: #3B4455;\n",
              "      fill: #D2E3FC;\n",
              "    }\n",
              "\n",
              "    [theme=dark] .colab-df-convert:hover {\n",
              "      background-color: #434B5C;\n",
              "      box-shadow: 0px 1px 3px 1px rgba(0, 0, 0, 0.15);\n",
              "      filter: drop-shadow(0px 1px 2px rgba(0, 0, 0, 0.3));\n",
              "      fill: #FFFFFF;\n",
              "    }\n",
              "  </style>\n",
              "\n",
              "    <script>\n",
              "      const buttonEl =\n",
              "        document.querySelector('#df-93dfb0aa-b379-4a5d-a284-a590cf178609 button.colab-df-convert');\n",
              "      buttonEl.style.display =\n",
              "        google.colab.kernel.accessAllowed ? 'block' : 'none';\n",
              "\n",
              "      async function convertToInteractive(key) {\n",
              "        const element = document.querySelector('#df-93dfb0aa-b379-4a5d-a284-a590cf178609');\n",
              "        const dataTable =\n",
              "          await google.colab.kernel.invokeFunction('convertToInteractive',\n",
              "                                                    [key], {});\n",
              "        if (!dataTable) return;\n",
              "\n",
              "        const docLinkHtml = 'Like what you see? Visit the ' +\n",
              "          '<a target=\"_blank\" href=https://colab.research.google.com/notebooks/data_table.ipynb>data table notebook</a>'\n",
              "          + ' to learn more about interactive tables.';\n",
              "        element.innerHTML = '';\n",
              "        dataTable['output_type'] = 'display_data';\n",
              "        await google.colab.output.renderOutput(dataTable, element);\n",
              "        const docLink = document.createElement('div');\n",
              "        docLink.innerHTML = docLinkHtml;\n",
              "        element.appendChild(docLink);\n",
              "      }\n",
              "    </script>\n",
              "  </div>\n",
              "\n",
              "\n",
              "<div id=\"df-7e7a9d5e-519c-43ee-ac1b-bbac35319f98\">\n",
              "  <button class=\"colab-df-quickchart\" onclick=\"quickchart('df-7e7a9d5e-519c-43ee-ac1b-bbac35319f98')\"\n",
              "            title=\"Suggest charts\"\n",
              "            style=\"display:none;\">\n",
              "\n",
              "<svg xmlns=\"http://www.w3.org/2000/svg\" height=\"24px\"viewBox=\"0 0 24 24\"\n",
              "     width=\"24px\">\n",
              "    <g>\n",
              "        <path d=\"M19 3H5c-1.1 0-2 .9-2 2v14c0 1.1.9 2 2 2h14c1.1 0 2-.9 2-2V5c0-1.1-.9-2-2-2zM9 17H7v-7h2v7zm4 0h-2V7h2v10zm4 0h-2v-4h2v4z\"/>\n",
              "    </g>\n",
              "</svg>\n",
              "  </button>\n",
              "\n",
              "<style>\n",
              "  .colab-df-quickchart {\n",
              "      --bg-color: #E8F0FE;\n",
              "      --fill-color: #1967D2;\n",
              "      --hover-bg-color: #E2EBFA;\n",
              "      --hover-fill-color: #174EA6;\n",
              "      --disabled-fill-color: #AAA;\n",
              "      --disabled-bg-color: #DDD;\n",
              "  }\n",
              "\n",
              "  [theme=dark] .colab-df-quickchart {\n",
              "      --bg-color: #3B4455;\n",
              "      --fill-color: #D2E3FC;\n",
              "      --hover-bg-color: #434B5C;\n",
              "      --hover-fill-color: #FFFFFF;\n",
              "      --disabled-bg-color: #3B4455;\n",
              "      --disabled-fill-color: #666;\n",
              "  }\n",
              "\n",
              "  .colab-df-quickchart {\n",
              "    background-color: var(--bg-color);\n",
              "    border: none;\n",
              "    border-radius: 50%;\n",
              "    cursor: pointer;\n",
              "    display: none;\n",
              "    fill: var(--fill-color);\n",
              "    height: 32px;\n",
              "    padding: 0;\n",
              "    width: 32px;\n",
              "  }\n",
              "\n",
              "  .colab-df-quickchart:hover {\n",
              "    background-color: var(--hover-bg-color);\n",
              "    box-shadow: 0 1px 2px rgba(60, 64, 67, 0.3), 0 1px 3px 1px rgba(60, 64, 67, 0.15);\n",
              "    fill: var(--button-hover-fill-color);\n",
              "  }\n",
              "\n",
              "  .colab-df-quickchart-complete:disabled,\n",
              "  .colab-df-quickchart-complete:disabled:hover {\n",
              "    background-color: var(--disabled-bg-color);\n",
              "    fill: var(--disabled-fill-color);\n",
              "    box-shadow: none;\n",
              "  }\n",
              "\n",
              "  .colab-df-spinner {\n",
              "    border: 2px solid var(--fill-color);\n",
              "    border-color: transparent;\n",
              "    border-bottom-color: var(--fill-color);\n",
              "    animation:\n",
              "      spin 1s steps(1) infinite;\n",
              "  }\n",
              "\n",
              "  @keyframes spin {\n",
              "    0% {\n",
              "      border-color: transparent;\n",
              "      border-bottom-color: var(--fill-color);\n",
              "      border-left-color: var(--fill-color);\n",
              "    }\n",
              "    20% {\n",
              "      border-color: transparent;\n",
              "      border-left-color: var(--fill-color);\n",
              "      border-top-color: var(--fill-color);\n",
              "    }\n",
              "    30% {\n",
              "      border-color: transparent;\n",
              "      border-left-color: var(--fill-color);\n",
              "      border-top-color: var(--fill-color);\n",
              "      border-right-color: var(--fill-color);\n",
              "    }\n",
              "    40% {\n",
              "      border-color: transparent;\n",
              "      border-right-color: var(--fill-color);\n",
              "      border-top-color: var(--fill-color);\n",
              "    }\n",
              "    60% {\n",
              "      border-color: transparent;\n",
              "      border-right-color: var(--fill-color);\n",
              "    }\n",
              "    80% {\n",
              "      border-color: transparent;\n",
              "      border-right-color: var(--fill-color);\n",
              "      border-bottom-color: var(--fill-color);\n",
              "    }\n",
              "    90% {\n",
              "      border-color: transparent;\n",
              "      border-bottom-color: var(--fill-color);\n",
              "    }\n",
              "  }\n",
              "</style>\n",
              "\n",
              "  <script>\n",
              "    async function quickchart(key) {\n",
              "      const quickchartButtonEl =\n",
              "        document.querySelector('#' + key + ' button');\n",
              "      quickchartButtonEl.disabled = true;  // To prevent multiple clicks.\n",
              "      quickchartButtonEl.classList.add('colab-df-spinner');\n",
              "      try {\n",
              "        const charts = await google.colab.kernel.invokeFunction(\n",
              "            'suggestCharts', [key], {});\n",
              "      } catch (error) {\n",
              "        console.error('Error during call to suggestCharts:', error);\n",
              "      }\n",
              "      quickchartButtonEl.classList.remove('colab-df-spinner');\n",
              "      quickchartButtonEl.classList.add('colab-df-quickchart-complete');\n",
              "    }\n",
              "    (() => {\n",
              "      let quickchartButtonEl =\n",
              "        document.querySelector('#df-7e7a9d5e-519c-43ee-ac1b-bbac35319f98 button');\n",
              "      quickchartButtonEl.style.display =\n",
              "        google.colab.kernel.accessAllowed ? 'block' : 'none';\n",
              "    })();\n",
              "  </script>\n",
              "</div>\n",
              "\n",
              "    </div>\n",
              "  </div>\n"
            ],
            "text/plain": [
              "              plotid      sampleid          BLUE         GREEN           NIR  \\\n",
              "count   91917.000000  9.191700e+04  91917.000000  91917.000000  91917.000000   \n",
              "mean    80903.389014  3.236146e+05      0.028759      0.054678      0.326286   \n",
              "std    249965.056791  9.998602e+05      0.056796      0.054755      0.094806   \n",
              "min         2.000000  5.000000e+00     -0.188643     -0.069183     -0.008353   \n",
              "25%      2813.000000  1.125500e+04      0.016453      0.037187      0.267500   \n",
              "50%      5581.000000  2.232500e+04      0.023025      0.047225      0.325278   \n",
              "75%      8365.000000  3.346200e+04      0.030697      0.061717      0.384705   \n",
              "max    910231.000000  3.640929e+06      1.063955      1.024878      0.980080   \n",
              "\n",
              "                RED         SWIR1         SWIR2       altura2        aspect  \\\n",
              "count  91917.000000  91917.000000  91917.000000  91917.000000  91917.000000   \n",
              "mean       0.040685      0.167335      0.077881     22.648094    171.194111   \n",
              "std        0.056447      0.060646      0.040669      9.035709    105.553654   \n",
              "min       -0.080238     -0.000982      0.000777      0.000000      0.000000   \n",
              "25%        0.020193      0.128928      0.051488     17.000000     81.388336   \n",
              "50%        0.028910      0.162175      0.068153     22.648094    173.548309   \n",
              "75%        0.047033      0.200950      0.095515     29.000000    263.995667   \n",
              "max        1.010193      0.562135      0.481972     51.000000    359.030029   \n",
              "\n",
              "       ...           lai          mTPI          ndvi     ocs_1mMed  \\\n",
              "count  ...  91917.000000  91917.000000  91917.000000  91917.000000   \n",
              "mean   ...      0.424549   8129.045423      0.788692     66.444444   \n",
              "std    ...      0.198203     37.864249      0.149405     19.879848   \n",
              "min    ...      0.000000   7891.000000     -0.974632      0.000000   \n",
              "25%    ...      0.245000   8116.000000      0.749062     55.000000   \n",
              "50%    ...      0.505000   8128.000000      0.838551     63.000000   \n",
              "75%    ...      0.615000   8139.000000      0.882234     73.000000   \n",
              "max    ...      0.670000   8390.000000      0.999941    150.000000   \n",
              "\n",
              "         sand_1mMed          savi    silt_1mMed         slope        topDiv  \\\n",
              "count  91917.000000  91917.000000  91917.000000  91917.000000  91917.000000   \n",
              "mean     308.995599      0.488116    301.564670     11.856382   1324.070790   \n",
              "std       64.057720      0.121252     57.215726     10.255775      0.304724   \n",
              "min        0.000000     -0.142855      0.000000      0.000000   1323.644835   \n",
              "25%      282.750000      0.425358    281.650000      3.380342   1323.771841   \n",
              "50%      309.600000      0.506485    302.700000      8.627475   1324.045699   \n",
              "75%      341.550000      0.571499    327.650000     17.910181   1324.329039   \n",
              "max      778.050000      0.902410    599.550000     72.676102   1324.630000   \n",
              "\n",
              "            wetness  \n",
              "count  91917.000000  \n",
              "mean      -0.014942  \n",
              "std        0.048994  \n",
              "min       -0.277014  \n",
              "25%       -0.036581  \n",
              "50%       -0.005721  \n",
              "75%        0.010595  \n",
              "max        0.733936  \n",
              "\n",
              "[8 rows x 30 columns]"
            ]
          },
          "execution_count": 4,
          "metadata": {},
          "output_type": "execute_result"
        }
      ],
      "source": [
        "df.describe()"
      ]
    },
    {
      "cell_type": "code",
      "execution_count": 5,
      "metadata": {
        "id": "PiaVCJp_Mbv-"
      },
      "outputs": [],
      "source": [
        "data=df"
      ]
    },
    {
      "cell_type": "code",
      "execution_count": 6,
      "metadata": {
        "colab": {
          "base_uri": "https://localhost:8080/"
        },
        "id": "1Si0LXZLsXoH",
        "outputId": "1acde4ef-a23e-4625-f88a-8d40b041c88c"
      },
      "outputs": [
        {
          "name": "stdout",
          "output_type": "stream",
          "text": [
            "<class 'pandas.core.frame.DataFrame'>\n",
            "Index: 91917 entries, 9 to 101159\n",
            "Data columns (total 45 columns):\n",
            " #   Column           Non-Null Count  Dtype  \n",
            "---  ------           --------------  -----  \n",
            " 0   plotid           91917 non-null  int64  \n",
            " 1   sampleid         91917 non-null  int64  \n",
            " 2   Use              91917 non-null  object \n",
            " 3   CoverType        91917 non-null  object \n",
            " 4   Vegetations      91917 non-null  object \n",
            " 5   Herbaceous       91917 non-null  object \n",
            " 6   GrasslandShrub   91917 non-null  object \n",
            " 7   CropsType        91917 non-null  object \n",
            " 8   WetlandArea      91917 non-null  object \n",
            " 9   LandType         91917 non-null  object \n",
            " 10  WaterBodyType    91917 non-null  object \n",
            " 11  OtherClass       91917 non-null  object \n",
            " 12  SAF              91917 non-null  object \n",
            " 13  Changes_15       91917 non-null  object \n",
            " 14  Gain_Loss        91917 non-null  object \n",
            " 15  geometry         91917 non-null  object \n",
            " 16  BLUE             91917 non-null  float64\n",
            " 17  GREEN            91917 non-null  float64\n",
            " 18  NIR              91917 non-null  float64\n",
            " 19  RED              91917 non-null  float64\n",
            " 20  SWIR1            91917 non-null  float64\n",
            " 21  SWIR2            91917 non-null  float64\n",
            " 22  altura2          91917 non-null  float64\n",
            " 23  aspect           91917 non-null  float64\n",
            " 24  aspectcos        91917 non-null  float64\n",
            " 25  aspectdeg        91917 non-null  float64\n",
            " 26  aspectsin        91917 non-null  float64\n",
            " 27  brightness       91917 non-null  float64\n",
            " 28  clay_1mMed       91917 non-null  float64\n",
            " 29  diff             91917 non-null  float64\n",
            " 30  elevation        91917 non-null  float64\n",
            " 31  evi              91917 non-null  float64\n",
            " 32  fpar             91917 non-null  float64\n",
            " 33  hand30_100       91917 non-null  float64\n",
            " 34  lai              91917 non-null  float64\n",
            " 35  mTPI             91917 non-null  float64\n",
            " 36  ndvi             91917 non-null  float64\n",
            " 37  ocs_1mMed        91917 non-null  float64\n",
            " 38  sand_1mMed       91917 non-null  float64\n",
            " 39  savi             91917 non-null  float64\n",
            " 40  silt_1mMed       91917 non-null  float64\n",
            " 41  slope            91917 non-null  float64\n",
            " 42  topDiv           91917 non-null  float64\n",
            " 43  wetness          91917 non-null  float64\n",
            " 44  Forest_Presence  91917 non-null  object \n",
            "dtypes: float64(28), int64(2), object(15)\n",
            "memory usage: 32.3+ MB\n"
          ]
        }
      ],
      "source": [
        "data.info()"
      ]
    },
    {
      "cell_type": "code",
      "execution_count": 7,
      "metadata": {
        "colab": {
          "base_uri": "https://localhost:8080/"
        },
        "id": "ANuDrEr1KwYm",
        "outputId": "18734c41-4900-4f2d-db4e-314994be4e79"
      },
      "outputs": [
        {
          "name": "stdout",
          "output_type": "stream",
          "text": [
            "✅ All categorical columns have been label encoded.\n",
            "Encoded columns: ['Use', 'CoverType', 'Vegetations', 'Herbaceous', 'GrasslandShrub', 'CropsType', 'WetlandArea', 'LandType', 'WaterBodyType', 'OtherClass', 'SAF', 'Changes_15', 'Gain_Loss', 'geometry', 'Forest_Presence']\n"
          ]
        }
      ],
      "source": [
        "from sklearn.preprocessing import LabelEncoder\n",
        "\n",
        "# Identify categorical columns (object or string types)\n",
        "cat_cols = data.select_dtypes(exclude=['number']).columns\n",
        "\n",
        "# Initialize the label encoder\n",
        "label_encoder = LabelEncoder()\n",
        "\n",
        "# Encode each categorical column, handling encoding errors\n",
        "for col in cat_cols:\n",
        "    # Exclude 'geometry' column from label encoding\n",
        "    if col == 'geometry':\n",
        "        continue\n",
        "    try:\n",
        "        data[col] = label_encoder.fit_transform(data[col].astype(str))\n",
        "    except UnicodeDecodeError:\n",
        "        # If UnicodeDecodeError occurs, try decoding with 'latin-1' before encoding\n",
        "        data[col] = label_encoder.fit_transform(data[col].astype(str).str.decode('latin-1', errors='ignore'))  # Decode before encoding\n",
        "\n",
        "print(\"✅ All categorical columns have been label encoded.\")\n",
        "print(\"Encoded columns:\", list(cat_cols))"
      ]
    },
    {
      "cell_type": "code",
      "execution_count": 8,
      "metadata": {
        "id": "85XyLKFTIL5B"
      },
      "outputs": [],
      "source": [
        "compressed_data = data.copy()"
      ]
    },
    {
      "cell_type": "code",
      "execution_count": 9,
      "metadata": {
        "id": "ciJM8XI6Iy6D"
      },
      "outputs": [],
      "source": [
        "compressed_data = compressed_data.drop([\"Vegetations\", \"Herbaceous\", \"GrasslandShrub\", \"CropsType\", \"WetlandArea\", \"LandType\", \"WaterBodyType\", \"OtherClass\", \"SAF\", \"Changes_15\", \"Gain_Loss\", \"geometry\",\"Forest_Presence\",'plotid',\"sampleid\",\"Use\"], axis=1)"
      ]
    },
    {
      "cell_type": "code",
      "execution_count": 10,
      "metadata": {
        "colab": {
          "base_uri": "https://localhost:8080/"
        },
        "id": "En9Bl5roJ-1g",
        "outputId": "15b5bf6b-f329-4a48-c14d-e4e4fc04c4be"
      },
      "outputs": [
        {
          "name": "stdout",
          "output_type": "stream",
          "text": [
            "<class 'pandas.core.frame.DataFrame'>\n",
            "Index: 91917 entries, 9 to 101159\n",
            "Data columns (total 29 columns):\n",
            " #   Column      Non-Null Count  Dtype  \n",
            "---  ------      --------------  -----  \n",
            " 0   CoverType   91917 non-null  int64  \n",
            " 1   BLUE        91917 non-null  float64\n",
            " 2   GREEN       91917 non-null  float64\n",
            " 3   NIR         91917 non-null  float64\n",
            " 4   RED         91917 non-null  float64\n",
            " 5   SWIR1       91917 non-null  float64\n",
            " 6   SWIR2       91917 non-null  float64\n",
            " 7   altura2     91917 non-null  float64\n",
            " 8   aspect      91917 non-null  float64\n",
            " 9   aspectcos   91917 non-null  float64\n",
            " 10  aspectdeg   91917 non-null  float64\n",
            " 11  aspectsin   91917 non-null  float64\n",
            " 12  brightness  91917 non-null  float64\n",
            " 13  clay_1mMed  91917 non-null  float64\n",
            " 14  diff        91917 non-null  float64\n",
            " 15  elevation   91917 non-null  float64\n",
            " 16  evi         91917 non-null  float64\n",
            " 17  fpar        91917 non-null  float64\n",
            " 18  hand30_100  91917 non-null  float64\n",
            " 19  lai         91917 non-null  float64\n",
            " 20  mTPI        91917 non-null  float64\n",
            " 21  ndvi        91917 non-null  float64\n",
            " 22  ocs_1mMed   91917 non-null  float64\n",
            " 23  sand_1mMed  91917 non-null  float64\n",
            " 24  savi        91917 non-null  float64\n",
            " 25  silt_1mMed  91917 non-null  float64\n",
            " 26  slope       91917 non-null  float64\n",
            " 27  topDiv      91917 non-null  float64\n",
            " 28  wetness     91917 non-null  float64\n",
            "dtypes: float64(28), int64(1)\n",
            "memory usage: 21.0 MB\n"
          ]
        }
      ],
      "source": [
        "compressed_data.info()"
      ]
    },
    {
      "cell_type": "markdown",
      "metadata": {
        "id": "bQsxZHciBvUO"
      },
      "source": [
        "# Will try three different techniciques to reduce the number of features for our model.\n",
        "1. A simple target and features correlation matrix\n",
        "2.Feature Importance from Random Forest / Tree Models\n",
        "3.Recursive Feature Elimination"
      ]
    },
    {
      "cell_type": "code",
      "execution_count": null,
      "metadata": {
        "colab": {
          "base_uri": "https://localhost:8080/",
          "height": 1000
        },
        "id": "EZgiUxFqBuWM",
        "outputId": "5f1e3e8e-bef1-4ed8-836c-26d283533389"
      },
      "outputs": [
        {
          "data": {
            "text/html": [
              "<div>\n",
              "<style scoped>\n",
              "    .dataframe tbody tr th:only-of-type {\n",
              "        vertical-align: middle;\n",
              "    }\n",
              "\n",
              "    .dataframe tbody tr th {\n",
              "        vertical-align: top;\n",
              "    }\n",
              "\n",
              "    .dataframe thead th {\n",
              "        text-align: right;\n",
              "    }\n",
              "</style>\n",
              "<table border=\"1\" class=\"dataframe\">\n",
              "  <thead>\n",
              "    <tr style=\"text-align: right;\">\n",
              "      <th></th>\n",
              "      <th>CoverType</th>\n",
              "    </tr>\n",
              "  </thead>\n",
              "  <tbody>\n",
              "    <tr>\n",
              "      <th>CoverType</th>\n",
              "      <td>1.000000</td>\n",
              "    </tr>\n",
              "    <tr>\n",
              "      <th>ndvi</th>\n",
              "      <td>0.249667</td>\n",
              "    </tr>\n",
              "    <tr>\n",
              "      <th>fpar</th>\n",
              "      <td>0.213624</td>\n",
              "    </tr>\n",
              "    <tr>\n",
              "      <th>wetness</th>\n",
              "      <td>0.190852</td>\n",
              "    </tr>\n",
              "    <tr>\n",
              "      <th>lai</th>\n",
              "      <td>0.182559</td>\n",
              "    </tr>\n",
              "    <tr>\n",
              "      <th>savi</th>\n",
              "      <td>0.178642</td>\n",
              "    </tr>\n",
              "    <tr>\n",
              "      <th>altura2</th>\n",
              "      <td>0.154547</td>\n",
              "    </tr>\n",
              "    <tr>\n",
              "      <th>diff</th>\n",
              "      <td>0.140853</td>\n",
              "    </tr>\n",
              "    <tr>\n",
              "      <th>silt_1mMed</th>\n",
              "      <td>0.120936</td>\n",
              "    </tr>\n",
              "    <tr>\n",
              "      <th>ocs_1mMed</th>\n",
              "      <td>0.114321</td>\n",
              "    </tr>\n",
              "    <tr>\n",
              "      <th>sand_1mMed</th>\n",
              "      <td>0.100925</td>\n",
              "    </tr>\n",
              "    <tr>\n",
              "      <th>slope</th>\n",
              "      <td>0.088565</td>\n",
              "    </tr>\n",
              "    <tr>\n",
              "      <th>clay_1mMed</th>\n",
              "      <td>0.088378</td>\n",
              "    </tr>\n",
              "    <tr>\n",
              "      <th>topDiv</th>\n",
              "      <td>0.079848</td>\n",
              "    </tr>\n",
              "    <tr>\n",
              "      <th>evi</th>\n",
              "      <td>0.060579</td>\n",
              "    </tr>\n",
              "    <tr>\n",
              "      <th>NIR</th>\n",
              "      <td>0.060356</td>\n",
              "    </tr>\n",
              "    <tr>\n",
              "      <th>hand30_100</th>\n",
              "      <td>0.056611</td>\n",
              "    </tr>\n",
              "    <tr>\n",
              "      <th>elevation</th>\n",
              "      <td>0.010221</td>\n",
              "    </tr>\n",
              "    <tr>\n",
              "      <th>plotid</th>\n",
              "      <td>0.005600</td>\n",
              "    </tr>\n",
              "    <tr>\n",
              "      <th>sampleid</th>\n",
              "      <td>0.005600</td>\n",
              "    </tr>\n",
              "    <tr>\n",
              "      <th>mTPI</th>\n",
              "      <td>0.004376</td>\n",
              "    </tr>\n",
              "    <tr>\n",
              "      <th>aspectcos</th>\n",
              "      <td>0.000710</td>\n",
              "    </tr>\n",
              "    <tr>\n",
              "      <th>aspectdeg</th>\n",
              "      <td>-0.003068</td>\n",
              "    </tr>\n",
              "    <tr>\n",
              "      <th>aspect</th>\n",
              "      <td>-0.003068</td>\n",
              "    </tr>\n",
              "    <tr>\n",
              "      <th>aspectsin</th>\n",
              "      <td>-0.008108</td>\n",
              "    </tr>\n",
              "    <tr>\n",
              "      <th>BLUE</th>\n",
              "      <td>-0.056562</td>\n",
              "    </tr>\n",
              "    <tr>\n",
              "      <th>brightness</th>\n",
              "      <td>-0.073112</td>\n",
              "    </tr>\n",
              "    <tr>\n",
              "      <th>GREEN</th>\n",
              "      <td>-0.078329</td>\n",
              "    </tr>\n",
              "    <tr>\n",
              "      <th>RED</th>\n",
              "      <td>-0.125853</td>\n",
              "    </tr>\n",
              "    <tr>\n",
              "      <th>SWIR1</th>\n",
              "      <td>-0.157525</td>\n",
              "    </tr>\n",
              "    <tr>\n",
              "      <th>pca_component</th>\n",
              "      <td>-0.176867</td>\n",
              "    </tr>\n",
              "    <tr>\n",
              "      <th>SWIR2</th>\n",
              "      <td>-0.230075</td>\n",
              "    </tr>\n",
              "  </tbody>\n",
              "</table>\n",
              "</div><br><label><b>dtype:</b> float64</label>"
            ],
            "text/plain": [
              "CoverType        1.000000\n",
              "ndvi             0.249667\n",
              "fpar             0.213624\n",
              "wetness          0.190852\n",
              "lai              0.182559\n",
              "savi             0.178642\n",
              "altura2          0.154547\n",
              "diff             0.140853\n",
              "silt_1mMed       0.120936\n",
              "ocs_1mMed        0.114321\n",
              "sand_1mMed       0.100925\n",
              "slope            0.088565\n",
              "clay_1mMed       0.088378\n",
              "topDiv           0.079848\n",
              "evi              0.060579\n",
              "NIR              0.060356\n",
              "hand30_100       0.056611\n",
              "elevation        0.010221\n",
              "plotid           0.005600\n",
              "sampleid         0.005600\n",
              "mTPI             0.004376\n",
              "aspectcos        0.000710\n",
              "aspectdeg       -0.003068\n",
              "aspect          -0.003068\n",
              "aspectsin       -0.008108\n",
              "BLUE            -0.056562\n",
              "brightness      -0.073112\n",
              "GREEN           -0.078329\n",
              "RED             -0.125853\n",
              "SWIR1           -0.157525\n",
              "pca_component   -0.176867\n",
              "SWIR2           -0.230075\n",
              "Name: CoverType, dtype: float64"
            ]
          },
          "execution_count": 19,
          "metadata": {},
          "output_type": "execute_result"
        }
      ],
      "source": [
        "compressed_data.corr(numeric_only=True)['CoverType'].sort_values(ascending=False)\n"
      ]
    },
    {
      "cell_type": "code",
      "execution_count": null,
      "metadata": {
        "colab": {
          "base_uri": "https://localhost:8080/"
        },
        "id": "wtihoasf6CIm",
        "outputId": "6b2cf53f-9017-40fd-e2d1-99f107fde63f"
      },
      "outputs": [
        {
          "name": "stdout",
          "output_type": "stream",
          "text": [
            "CoverType     1.000000\n",
            "BLUE         -0.056562\n",
            "GREEN        -0.078329\n",
            "NIR           0.060356\n",
            "RED          -0.125853\n",
            "SWIR1        -0.157525\n",
            "SWIR2        -0.230075\n",
            "altura2       0.154547\n",
            "aspect       -0.003068\n",
            "aspectcos     0.000710\n",
            "aspectdeg    -0.003068\n",
            "aspectsin    -0.008108\n",
            "brightness   -0.073112\n",
            "clay_1mMed    0.088378\n",
            "diff          0.140853\n",
            "elevation     0.010221\n",
            "evi           0.060579\n",
            "fpar          0.213624\n",
            "hand30_100    0.056611\n",
            "lai           0.182559\n",
            "mTPI          0.004376\n",
            "ndvi          0.249667\n",
            "ocs_1mMed     0.114321\n",
            "sand_1mMed    0.100925\n",
            "savi          0.178642\n",
            "silt_1mMed    0.120936\n",
            "slope         0.088565\n",
            "topDiv        0.079848\n",
            "wetness       0.190852\n",
            "Name: CoverType, dtype: float64\n"
          ]
        }
      ],
      "source": [
        "# We will take the predictors that correlation is atleast 0.05 are greater errir spective of the sign negative\n",
        "# lets store the correlation in a variable\n",
        "corr_matrix = compressed_data.corr(numeric_only=True)['CoverType']\n",
        "print(corr_matrix)"
      ]
    },
    {
      "cell_type": "code",
      "execution_count": null,
      "metadata": {
        "colab": {
          "base_uri": "https://localhost:8080/"
        },
        "id": "1ZoXmV0qAnsp",
        "outputId": "07459c24-43c2-4cfc-ba04-3f617b4ce177"
      },
      "outputs": [
        {
          "name": "stdout",
          "output_type": "stream",
          "text": [
            "Index(['aspect', 'aspectcos', 'aspectdeg', 'aspectsin', 'elevation', 'mTPI'], dtype='object')\n"
          ]
        }
      ],
      "source": [
        "features_to_drop =  corr_matrix[abs(corr_matrix) < 0.05].index\n",
        "print(features_to_drop)\n",
        "\n",
        "\n"
      ]
    },
    {
      "cell_type": "code",
      "execution_count": null,
      "metadata": {
        "colab": {
          "base_uri": "https://localhost:8080/"
        },
        "id": "trrOOIzdDRUD",
        "outputId": "333dbf96-d53c-4bcf-c230-9d5f39e20bf7"
      },
      "outputs": [
        {
          "name": "stdout",
          "output_type": "stream",
          "text": [
            "['CoverType', 'BLUE', 'GREEN', 'NIR', 'RED', 'SWIR1', 'SWIR2', 'altura2', 'brightness', 'clay_1mMed', 'diff', 'evi', 'fpar', 'hand30_100', 'lai', 'ndvi', 'ocs_1mMed', 'sand_1mMed', 'savi', 'silt_1mMed', 'slope', 'topDiv', 'wetness']\n"
          ]
        }
      ],
      "source": [
        "# now we take the orignal dataframe an the drop features and compare to get a new list\n",
        "correlation_final=[]\n",
        "for i in compressed_data:\n",
        "  if i not in features_to_drop:\n",
        "     correlation_final.append(i)\n",
        "print(correlation_final)\n",
        "\n"
      ]
    },
    {
      "cell_type": "markdown",
      "metadata": {
        "id": "Jx5GHA9xB-to"
      },
      "source": [
        "## I chose to drop features that had an absolute value below a 0.05 % significance level.Using  list compreshion the features: 'plotid', 'sampleid', 'aspect', 'aspectcos', 'aspectdeg', 'aspectsin','elevation', 'mTPI'.These are the potential features to be dropped usng a simple correlation approach."
      ]
    },
    {
      "cell_type": "markdown",
      "metadata": {
        "id": "-jiz0FvXIaCi"
      },
      "source": [
        "## Feature Importance from Random Forest / Tree Models"
      ]
    },
    {
      "cell_type": "code",
      "execution_count": null,
      "metadata": {
        "colab": {
          "base_uri": "https://localhost:8080/",
          "height": 833
        },
        "id": "2IhRNerAI_1-",
        "outputId": "cc4681e9-fd82-4201-bf85-b90e587ffe0e"
      },
      "outputs": [
        {
          "name": "stdout",
          "output_type": "stream",
          "text": [
            "Training Accuracy: 1.00\n",
            "Test Accuracy: 0.95\n",
            "       Feature  Importance\n",
            "20        ndvi    0.062070\n",
            "15         evi    0.051823\n",
            "23        savi    0.047645\n",
            "22  sand_1mMed    0.043731\n",
            "12  clay_1mMed    0.043397\n",
            "3          RED    0.042088\n",
            "21   ocs_1mMed    0.041992\n",
            "0         BLUE    0.039358\n",
            "5        SWIR2    0.038445\n",
            "14   elevation    0.037714\n"
          ]
        },
        {
          "data": {
            "image/png": "[encoded data removed]",
            "text/plain": [
              "<Figure size 1200x600 with 1 Axes>"
            ]
          },
          "metadata": {},
          "output_type": "display_data"
        }
      ],
      "source": [
        "import pandas as pd\n",
        "import numpy as np\n",
        "from sklearn.ensemble import RandomForestClassifier\n",
        "from sklearn.model_selection import train_test_split\n",
        "import matplotlib.pyplot as plt\n",
        "import seaborn as sns\n",
        "\n",
        "\n",
        "target = 'CoverType'\n",
        "\n",
        "\n",
        "drop_cols = compressed_data.select_dtypes(exclude='number').columns\n",
        "features = compressed_data.drop(columns=drop_cols.tolist() + [target])\n",
        "\n",
        "X = features\n",
        "y = compressed_data[target]\n",
        "\n",
        "\n",
        "X_train, X_test, y_train, y_test = train_test_split(X, y, test_size=0.2, random_state=42)\n",
        "\n",
        "\n",
        "model = RandomForestClassifier(n_estimators=100, random_state=42)\n",
        "model.fit(X_train, y_train)\n",
        "\n",
        "\n",
        "print(f\"Training Accuracy: {model.score(X_train, y_train):.2f}\")\n",
        "print(f\"Test Accuracy: {model.score(X_test, y_test):.2f}\")\n",
        "\n",
        "\n",
        "importances = model.feature_importances_\n",
        "feature_importance_df = pd.DataFrame({\n",
        "    'Feature': X.columns,\n",
        "    'Importance': importances\n",
        "}).sort_values(by='Importance', ascending=False)\n",
        "\n",
        "print(feature_importance_df.head(10))\n",
        "\n",
        "plt.figure(figsize=(12, 6))\n",
        "sns.barplot(x='Importance', y='Feature', data=feature_importance_df.head(15))\n",
        "plt.title('Top 10 Feature Importances')\n",
        "plt.tight_layout()\n",
        "plt.show()\n"
      ]
    },
    {
      "cell_type": "markdown",
      "metadata": {
        "id": "D_nzJliWJ59E"
      },
      "source": [
        "## Using a simple Random forest model to filter and rank features.We see that the top features to be selected are   ndvi,evi,savi,sand_1mMed,clay_1mMed,RED,ocs_1mMed,BLUE,SWIR2,elevation."
      ]
    },
    {
      "cell_type": "markdown",
      "metadata": {
        "id": "rQ1rVp6YMJix"
      },
      "source": [
        "## Recursive Feature Elimination (RFE)"
      ]
    },
    {
      "cell_type": "code",
      "execution_count": null,
      "metadata": {
        "colab": {
          "base_uri": "https://localhost:8080/"
        },
        "id": "beiUHvzQLbXJ",
        "outputId": "60320413-a245-4911-aa77-57156c93d2c6"
      },
      "outputs": [
        {
          "name": "stdout",
          "output_type": "stream",
          "text": [
            "Selected Features: Index(['BLUE', 'NIR', 'RED', 'SWIR1', 'SWIR2', 'clay_1mMed', 'elevation',\n",
            "       'evi', 'ndvi', 'sand_1mMed', 'savi', 'silt_1mMed', 'topDiv', 'wetness'],\n",
            "      dtype='object')\n",
            "Optimal number of features: 14\n"
          ]
        }
      ],
      "source": [
        "from sklearn.feature_selection import RFE\n",
        "from sklearn.ensemble import RandomForestClassifier\n",
        "from sklearn.model_selection import StratifiedKFold\n",
        "\n",
        "rfe = RFE(estimator=RandomForestClassifier(n_estimators=100))\n",
        "rfe.fit(X, y)\n",
        "# cross-validation\n",
        "cv = StratifiedKFold(n_splits=5, shuffle=True, random_state=42)\n",
        "\n",
        "selected_features = X.columns[rfe.support_]\n",
        "print(\"Selected Features:\", selected_features)\n",
        "print(\"Optimal number of features:\", rfe.n_features_)\n"
      ]
    },
    {
      "cell_type": "markdown",
      "metadata": {
        "id": "XlHgcmuOWqLv"
      },
      "source": []
    },
    {
      "cell_type": "markdown",
      "metadata": {
        "id": "sVa3yQTcIQhE"
      },
      "source": [
        "# Simple correlation adided in the inital filtering, RFE was computationally costly to run however gave us a fine-tuned subset of variables to work with. Random Forest feature importance graph give more interpretability and a smaller subset of features. This approach offered the most practical and useful feature selection approach."
      ]
    },
    {
      "cell_type": "markdown",
      "metadata": {
        "id": "_Vs9UDOxQGBT"
      },
      "source": [
        "# Modeling"
      ]
    },
    {
      "cell_type": "code",
      "execution_count": 12,
      "metadata": {
        "id": "S1jwjis5QIAL"
      },
      "outputs": [],
      "source": [
        "import pandas as pd\n",
        "import numpy as np\n",
        "from sklearn.model_selection import train_test_split\n",
        "from sklearn.metrics import mean_squared_error, r2_score\n",
        "from matplotlib import pyplot\n",
        "from sklearn.model_selection import KFold\n",
        "from sklearn.model_selection import cross_val_score\n",
        "from sklearn.linear_model import LinearRegression, Ridge, Lasso, ElasticNet\n",
        "from sklearn.tree import DecisionTreeRegressor\n",
        "from sklearn.linear_model import LogisticRegression\n",
        "from sklearn.neighbors import KNeighborsRegressor\n",
        "from sklearn.ensemble import RandomForestRegressor, GradientBoostingRegressor\n",
        "from sklearn.svm import SVR\n",
        "from sklearn.neural_network import MLPRegressor\n",
        "from xgboost import XGBRegressor"
      ]
    },
    {
      "cell_type": "code",
      "execution_count": 15,
      "metadata": {
        "id": "8Q71bsfua2YK"
      },
      "outputs": [],
      "source": [
        "pred=compressed_data[['BLUE', 'NIR', 'RED', 'SWIR1', 'SWIR2', 'clay_1mMed', 'elevation','evi', 'ndvi', 'sand_1mMed', 'savi', 'silt_1mMed', 'topDiv', 'wetness']]\n",
        "target=compressed_data['CoverType']"
      ]
    },
    {
      "cell_type": "code",
      "execution_count": 16,
      "metadata": {
        "id": "DigqFr1hQxwH"
      },
      "outputs": [],
      "source": [
        "X = pred\n",
        "y = target\n",
        "X_train, X_test, y_train, y_test = train_test_split(X, y, test_size=0.2, random_state=42)\n",
        "models = []\n",
        "models.append(('LG', LogisticRegression()))\n",
        "models.append(('LR', LinearRegression()))\n",
        "models.append(('Ridge', Ridge()))\n",
        "models.append(('Lasso', Lasso()))\n",
        "models.append(('ElasticNet', ElasticNet()))\n",
        "models.append(('KNN', KNeighborsRegressor()))\n",
        "models.append(('DecisionTree', DecisionTreeRegressor()))\n",
        "models.append(('SVR', SVR()))\n",
        "models.append(('RandomForest', RandomForestRegressor()))\n",
        "models.append(('GradientBoosting', GradientBoostingRegressor()))\n",
        "models.append(('MLP', MLPRegressor()))\n",
        "models.append(('XGBoost', XGBRegressor()))"
      ]
    },
    {
      "cell_type": "code",
      "execution_count": 17,
      "metadata": {
        "colab": {
          "base_uri": "https://localhost:8080/",
          "height": 1000
        },
        "id": "8pHToppZQsZa",
        "outputId": "95d184c1-10d0-408b-eeb4-8f0082d2bf9f"
      },
      "outputs": [
        {
          "name": "stderr",
          "output_type": "stream",
          "text": [
            "  8%|▊         | 1/12 [00:25<04:37, 25.24s/it]"
          ]
        },
        {
          "name": "stdout",
          "output_type": "stream",
          "text": [
            "Coefficients for LG:  [[ 4.54869225e-07  3.79801335e-06  7.03797882e-07  2.98550057e-06\n",
            "   1.45437529e-06  6.25544997e-03 -1.32965736e-04  2.84303014e-06\n",
            "  -1.70934796e-06 -7.66916050e-05  1.84178459e-06  6.18358113e-04\n",
            "  -3.26404658e-03 -1.02047886e-06]\n",
            " [ 8.90849068e-08 -3.44600123e-06  2.13056846e-06  3.14020630e-06\n",
            "   3.70867074e-06 -1.44459217e-03  4.64035941e-04 -1.27248529e-05\n",
            "  -1.50866115e-05 -2.08188728e-04 -9.24031809e-06 -1.81422558e-03\n",
            "  -7.74557055e-04 -4.17082856e-06]\n",
            " [ 9.19562374e-05 -2.38825021e-04  2.08855425e-04  2.61152317e-04\n",
            "   2.65844381e-04 -4.02967735e-04  2.51955221e-04 -8.92198284e-04\n",
            "  -1.20640307e-03  1.64380820e-03 -7.40714854e-04 -5.50051220e-03\n",
            "   2.14592943e-03 -2.81943902e-04]\n",
            " [-7.00282086e-07  1.17546783e-07 -1.66390194e-06 -7.70926303e-07\n",
            "  -1.46689991e-06 -2.79737448e-03  8.79576742e-05  4.94313261e-06\n",
            "   3.19136329e-06  1.49660948e-04  3.02847072e-06  7.43406800e-03\n",
            "  -2.27507709e-03  3.79535354e-07]\n",
            " [-9.12422177e-05  4.32143329e-04 -2.09093753e-04 -1.71334092e-04\n",
            "  -2.30378957e-04  1.43970243e-03  3.81233378e-04  1.24555926e-03\n",
            "   1.57018387e-03  4.08081747e-03  1.05970750e-03 -1.17777805e-03\n",
            "   2.25968491e-03  2.68364810e-04]\n",
            " [-5.57691714e-07 -1.93787867e-04 -9.32136095e-07 -9.51730059e-05\n",
            "  -3.91615702e-05 -3.05021800e-03 -1.05221648e-03 -3.48422284e-04\n",
            "  -3.50176200e-04 -5.58940628e-03 -3.14622581e-04  4.40089718e-04\n",
            "   1.90806638e-03  1.83908642e-05]]\n",
            "LogisticRegression()\n",
            "\tTraining time: 2.276s\n",
            "\tPrediction time: 0.003s\n",
            "\tExplained variance: 2.220446049250313e-16\n",
            "\tMean absolute error: 0.12391209747606614\n",
            "\tR2 score: -0.048686167190171714\n",
            "\tMean Squared Error: 0.2554395126196693\n",
            "\tRoot Mean Squared Error: 0.5054102419022287\n",
            "\n"
          ]
        },
        {
          "name": "stderr",
          "output_type": "stream",
          "text": [
            "\r 17%|█▋        | 2/12 [00:25<01:46, 10.62s/it]"
          ]
        },
        {
          "name": "stdout",
          "output_type": "stream",
          "text": [
            "Coefficients for LR:  [-6.77687613e+00 -1.23686614e+01 -2.12949037e+01  3.17766538e+01\n",
            "  1.16751626e+01  2.12068416e-04 -6.43168138e-06 -9.85589461e-04\n",
            "  4.26161833e-01  2.32766335e-04 -1.73738273e+00  5.27303485e-04\n",
            "  9.20696074e-02  4.03522498e+01]\n",
            "LinearRegression()\n",
            "\tTraining time: 0.057s\n",
            "\tPrediction time: 0.002s\n",
            "\tExplained variance: 0.11132950999156732\n",
            "\tMean absolute error: 0.20592580882721742\n",
            "\tR2 score: 0.11132524238614327\n",
            "\tMean Squared Error: 0.21646385168835836\n",
            "\tRoot Mean Squared Error: 0.465256758885197\n",
            "\n"
          ]
        },
        {
          "name": "stderr",
          "output_type": "stream",
          "text": [
            "\r 25%|██▌       | 3/12 [00:25<00:52,  5.87s/it]"
          ]
        },
        {
          "name": "stdout",
          "output_type": "stream",
          "text": [
            "Coefficients for Ridge:  [ 7.48865856e-01  1.37010949e+00 -3.18687868e+00  3.22844922e+00\n",
            " -4.55960950e+00  2.10612809e-04 -2.46851112e-05 -7.58416819e-04\n",
            "  4.95668975e-01  2.45111759e-04 -1.65236434e+00  5.22307180e-04\n",
            "  8.83909096e-02  1.90906564e+00]\n",
            "Ridge()\n",
            "\tTraining time: 0.010s\n",
            "\tPrediction time: 0.001s\n",
            "\tExplained variance: 0.10488188133762522\n",
            "\tMean absolute error: 0.20680547949981606\n",
            "\tR2 score: 0.10487610793578617\n",
            "\tMean Squared Error: 0.21803473515412566\n",
            "\tRoot Mean Squared Error: 0.4669418969787629\n",
            "\n"
          ]
        },
        {
          "name": "stderr",
          "output_type": "stream",
          "text": [
            "\r 33%|███▎      | 4/12 [00:26<00:29,  3.66s/it]"
          ]
        },
        {
          "name": "stdout",
          "output_type": "stream",
          "text": [
            "Coefficients for Lasso:  [-0.00000000e+00  0.00000000e+00 -0.00000000e+00 -0.00000000e+00\n",
            " -0.00000000e+00  2.55465469e-04  1.98923878e-06  0.00000000e+00\n",
            "  0.00000000e+00  3.19460201e-04  0.00000000e+00  4.82862027e-04\n",
            "  0.00000000e+00  0.00000000e+00]\n",
            "Lasso()\n",
            "\tTraining time: 0.015s\n",
            "\tPrediction time: 0.001s\n",
            "\tExplained variance: 0.018148411720956825\n",
            "\tMean absolute error: 0.21569372679081805\n",
            "\tR2 score: 0.018147535497640588\n",
            "\tMean Squared Error: 0.23916012515822793\n",
            "\tRoot Mean Squared Error: 0.4890400036379723\n",
            "\n"
          ]
        },
        {
          "name": "stderr",
          "output_type": "stream",
          "text": [
            "\r 42%|████▏     | 5/12 [00:26<00:16,  2.42s/it]"
          ]
        },
        {
          "name": "stdout",
          "output_type": "stream",
          "text": [
            "Coefficients for ElasticNet:  [-0.00000000e+00  0.00000000e+00 -0.00000000e+00 -0.00000000e+00\n",
            " -0.00000000e+00  3.14069348e-04  2.42810911e-06  0.00000000e+00\n",
            "  0.00000000e+00  3.96523390e-04  0.00000000e+00  5.73635201e-04\n",
            "  0.00000000e+00  0.00000000e+00]\n",
            "ElasticNet()\n",
            "\tTraining time: 0.014s\n",
            "\tPrediction time: 0.001s\n",
            "\tExplained variance: 0.019477407232390442\n",
            "\tMean absolute error: 0.21471092056095648\n",
            "\tR2 score: 0.019476255051987135\n",
            "\tMean Squared Error: 0.2388364749700311\n",
            "\tRoot Mean Squared Error: 0.4887089880184639\n",
            "\n"
          ]
        },
        {
          "name": "stderr",
          "output_type": "stream",
          "text": [
            "\r 50%|█████     | 6/12 [00:28<00:14,  2.50s/it]"
          ]
        },
        {
          "name": "stdout",
          "output_type": "stream",
          "text": [
            "KNeighborsRegressor()\n",
            "\tTraining time: 0.191s\n",
            "\tPrediction time: 0.187s\n",
            "\tExplained variance: 0.25810380638473274\n",
            "\tMean absolute error: 0.14718233246301132\n",
            "\tR2 score: 0.25810366596269396\n",
            "\tMean Squared Error: 0.18071148825065278\n",
            "\tRoot Mean Squared Error: 0.4251017387057512\n",
            "\n"
          ]
        },
        {
          "name": "stderr",
          "output_type": "stream",
          "text": [
            "\r 58%|█████▊    | 7/12 [00:51<00:45,  9.14s/it]"
          ]
        },
        {
          "name": "stdout",
          "output_type": "stream",
          "text": [
            "DecisionTreeRegressor()\n",
            "\tTraining time: 2.606s\n",
            "\tPrediction time: 0.004s\n",
            "\tExplained variance: -0.43622872806543334\n",
            "\tMean absolute error: 0.16160791993037424\n",
            "\tR2 score: -0.4365839253693302\n",
            "\tMean Squared Error: 0.3499238468233246\n",
            "\tRoot Mean Squared Error: 0.5915436136273678\n",
            "\n"
          ]
        },
        {
          "name": "stderr",
          "output_type": "stream",
          "text": [
            "\r 67%|██████▋   | 8/12 [1:08:54<1:27:03, 1305.87s/it]"
          ]
        },
        {
          "name": "stdout",
          "output_type": "stream",
          "text": [
            "SVR()\n",
            "\tTraining time: 63.369s\n",
            "\tPrediction time: 9.294s\n",
            "\tExplained variance: 0.04318364929722551\n",
            "\tMean absolute error: 0.20629945131524158\n",
            "\tR2 score: 0.04318280205728864\n",
            "\tMean Squared Error: 0.2330620221333405\n",
            "\tRoot Mean Squared Error: 0.48276497608395386\n",
            "\n"
          ]
        },
        {
          "name": "stderr",
          "output_type": "stream",
          "text": [
            "\r 75%|███████▌  | 9/12 [1:34:26<1:08:50, 1376.72s/it]"
          ]
        },
        {
          "name": "stdout",
          "output_type": "stream",
          "text": [
            "RandomForestRegressor()\n",
            "\tTraining time: 150.283s\n",
            "\tPrediction time: 0.314s\n",
            "\tExplained variance: 0.36161688751163157\n",
            "\tMean absolute error: 0.15884811067595012\n",
            "\tR2 score: 0.361253653663829\n",
            "\tMean Squared Error: 0.1555861615233053\n",
            "\tRoot Mean Squared Error: 0.39444411711078325\n",
            "\n"
          ]
        },
        {
          "name": "stderr",
          "output_type": "stream",
          "text": [
            "\r 83%|████████▎ | 10/12 [1:40:25<35:25, 1062.50s/it] "
          ]
        },
        {
          "name": "stdout",
          "output_type": "stream",
          "text": [
            "GradientBoostingRegressor()\n",
            "\tTraining time: 35.480s\n",
            "\tPrediction time: 0.022s\n",
            "\tExplained variance: 0.19068796670319454\n",
            "\tMean absolute error: 0.18003918860739737\n",
            "\tR2 score: 0.19067319872402522\n",
            "\tMean Squared Error: 0.1971362359264163\n",
            "\tRoot Mean Squared Error: 0.44400026568282175\n",
            "\n"
          ]
        },
        {
          "name": "stderr",
          "output_type": "stream",
          "text": [
            "\r 92%|█████████▏| 11/12 [1:41:12<12:31, 751.62s/it] "
          ]
        },
        {
          "name": "stdout",
          "output_type": "stream",
          "text": [
            "MLPRegressor()\n",
            "\tTraining time: 3.719s\n",
            "\tPrediction time: 0.052s\n",
            "\tExplained variance: -0.31374700932377864\n",
            "\tMean absolute error: 0.33134482332477194\n",
            "\tR2 score: -0.32536636886456805\n",
            "\tMean Squared Error: 0.32283341756320916\n",
            "\tRoot Mean Squared Error: 0.5681843165410404\n",
            "\n"
          ]
        },
        {
          "name": "stderr",
          "output_type": "stream",
          "text": [
            "100%|██████████| 12/12 [1:41:22<00:00, 506.87s/it]"
          ]
        },
        {
          "name": "stdout",
          "output_type": "stream",
          "text": [
            "XGBRegressor(base_score=None, booster=None, callbacks=None,\n",
            "             colsample_bylevel=None, colsample_bynode=None,\n",
            "             colsample_bytree=None, device=None, early_stopping_rounds=None,\n",
            "             enable_categorical=False, eval_metric=None, feature_types=None,\n",
            "             gamma=None, grow_policy=None, importance_type=None,\n",
            "             interaction_constraints=None, learning_rate=None, max_bin=None,\n",
            "             max_cat_threshold=None, max_cat_to_onehot=None,\n",
            "             max_delta_step=None, max_depth=None, max_leaves=None,\n",
            "             min_child_weight=None, missing=nan, monotone_constraints=None,\n",
            "             multi_strategy=None, n_estimators=None, n_jobs=None,\n",
            "             num_parallel_tree=None, random_state=None, ...)\n",
            "\tTraining time: 1.924s\n",
            "\tPrediction time: 0.034s\n",
            "\tExplained variance: 0.33105613033021897\n",
            "\tMean absolute error: 0.16523732244968414\n",
            "\tR2 score: 0.3310536742210388\n",
            "\tMean Squared Error: 0.16294227540493011\n",
            "\tRoot Mean Squared Error: 0.4036610897831622\n",
            "\n"
          ]
        },
        {
          "name": "stderr",
          "output_type": "stream",
          "text": [
            "\n"
          ]
        },
        {
          "data": {
            "image/png": "[encoded data removed]",
            "text/plain": [
              "<Figure size 1500x1000 with 1 Axes>"
            ]
          },
          "metadata": {},
          "output_type": "display_data"
        },
        {
          "name": "stdout",
          "output_type": "stream",
          "text": [
            "\n",
            "Models performance:\n",
            "LG - Mean Absolute Error: 0.12391209747606614\n",
            "KNN - Mean Absolute Error: 0.14718233246301132\n",
            "RandomForest - Mean Absolute Error: 0.15884811067595012\n",
            "DecisionTree - Mean Absolute Error: 0.16160791993037424\n",
            "XGBoost - Mean Absolute Error: 0.16523732244968414\n",
            "GradientBoosting - Mean Absolute Error: 0.18003918860739737\n",
            "LR - Mean Absolute Error: 0.20592580882721742\n",
            "SVR - Mean Absolute Error: 0.20629945131524158\n",
            "Ridge - Mean Absolute Error: 0.20680547949981606\n",
            "ElasticNet - Mean Absolute Error: 0.21471092056095648\n",
            "Lasso - Mean Absolute Error: 0.21569372679081805\n",
            "MLP - Mean Absolute Error: 0.33134482332477194\n"
          ]
        }
      ],
      "source": [
        "import time\n",
        "from tqdm import tqdm\n",
        "from sklearn.metrics import mean_absolute_error, r2_score, explained_variance_score, mean_squared_error\n",
        "from math import sqrt\n",
        "\n",
        "results = []\n",
        "models_stats = []\n",
        "names = []\n",
        "scoring = 'neg_mean_absolute_error' # Change to 'r2' for R2, 'neg_mean_squared_error' for MSE, or 'neg_root_mean_squared_error' for RMSE\n",
        "\n",
        "for name, model in tqdm(models):\n",
        "    start = time.time()\n",
        "    kfold = KFold(n_splits=10, random_state=7, shuffle=True)\n",
        "    model.fit(X_train, y_train)\n",
        "    train_time = time.time() - start\n",
        "    cv_results = -1 * cross_val_score(model, X_train, y_train, cv=kfold, scoring=scoring)\n",
        "    results.append(cv_results)\n",
        "    names.append(name)\n",
        "\n",
        "    # Make predictions\n",
        "    start = time.time()\n",
        "    y_pred = model.predict(X_test)\n",
        "    predict_time = time.time() - start\n",
        "\n",
        "    # Coefficients are not available for all models\n",
        "    if hasattr(model, 'coef_'):\n",
        "        print(f\"Coefficients for {name}: \", model.coef_)\n",
        "\n",
        "    print(model)\n",
        "    print(\"\\tTraining time: %0.3fs\" % train_time)\n",
        "    print(\"\\tPrediction time: %0.3fs\" % predict_time)\n",
        "    print(\"\\tExplained variance:\", explained_variance_score(y_test, y_pred))\n",
        "    print(\"\\tMean absolute error:\", mean_absolute_error(y_test, y_pred))\n",
        "    print(\"\\tR2 score:\", r2_score(y_test, y_pred))\n",
        "    print(\"\\tMean Squared Error:\", mean_squared_error(y_test, y_pred))\n",
        "    print(\"\\tRoot Mean Squared Error:\", sqrt(mean_squared_error(y_test, y_pred)))\n",
        "    print()\n",
        "\n",
        "    model_stats = {\n",
        "        'name': name,\n",
        "        'mean_score': cv_results.mean(),\n",
        "        'std_score': cv_results.std(),\n",
        "        'explained_variance': explained_variance_score(y_test, y_pred),\n",
        "        'mean_absolute_error': mean_absolute_error(y_test, y_pred),\n",
        "        'r2_score': r2_score(y_test, y_pred),\n",
        "        'mean_squared_error': mean_squared_error(y_test, y_pred),\n",
        "        'root_mean_squared_error': sqrt(mean_squared_error(y_test, y_pred)),\n",
        "    }\n",
        "\n",
        "    models_stats.append(model_stats)\n",
        "\n",
        "# Boxplot to compare algorithms\n",
        "fig = pyplot.figure(figsize=(15, 10))\n",
        "fig.suptitle('Algorithm Comparison')\n",
        "ax = fig.add_subplot(111)\n",
        "pyplot.boxplot(results)\n",
        "ax.set_xticklabels(names, rotation = 45)\n",
        "pyplot.show()\n",
        "\n",
        "# Sorting the models based on mean absolute error\n",
        "models_stats.sort(key=lambda x: x['mean_absolute_error'])\n",
        "\n",
        "print(\"\\nModels performance:\")\n",
        "for model in models_stats:\n",
        "    print(f\"{model['name']} - Mean Absolute Error: {model['mean_absolute_error']}\")"
      ]
    }
  ],
  "metadata": {
    "accelerator": "GPU",
    "colab": {
      "gpuType": "T4",
      "provenance": []
    },
    "kernelspec": {
      "display_name": "Python 3",
      "name": "python3"
    },
    "language_info": {
      "name": "python"
    }
  },
  "nbformat": 4,
  "nbformat_minor": 0
}
